{
 "cells": [
  {
   "cell_type": "code",
   "execution_count": 1,
   "metadata": {},
   "outputs": [
    {
     "name": "stderr",
     "output_type": "stream",
     "text": [
      "/home/simon/.conda/envs/tf1.12/lib/python3.6/site-packages/tensorflow/python/framework/dtypes.py:523: FutureWarning: Passing (type, 1) or '1type' as a synonym of type is deprecated; in a future version of numpy, it will be understood as (type, (1,)) / '(1,)type'.\n",
      "  _np_qint8 = np.dtype([(\"qint8\", np.int8, 1)])\n",
      "/home/simon/.conda/envs/tf1.12/lib/python3.6/site-packages/tensorflow/python/framework/dtypes.py:524: FutureWarning: Passing (type, 1) or '1type' as a synonym of type is deprecated; in a future version of numpy, it will be understood as (type, (1,)) / '(1,)type'.\n",
      "  _np_quint8 = np.dtype([(\"quint8\", np.uint8, 1)])\n",
      "/home/simon/.conda/envs/tf1.12/lib/python3.6/site-packages/tensorflow/python/framework/dtypes.py:525: FutureWarning: Passing (type, 1) or '1type' as a synonym of type is deprecated; in a future version of numpy, it will be understood as (type, (1,)) / '(1,)type'.\n",
      "  _np_qint16 = np.dtype([(\"qint16\", np.int16, 1)])\n",
      "/home/simon/.conda/envs/tf1.12/lib/python3.6/site-packages/tensorflow/python/framework/dtypes.py:526: FutureWarning: Passing (type, 1) or '1type' as a synonym of type is deprecated; in a future version of numpy, it will be understood as (type, (1,)) / '(1,)type'.\n",
      "  _np_quint16 = np.dtype([(\"quint16\", np.uint16, 1)])\n",
      "/home/simon/.conda/envs/tf1.12/lib/python3.6/site-packages/tensorflow/python/framework/dtypes.py:527: FutureWarning: Passing (type, 1) or '1type' as a synonym of type is deprecated; in a future version of numpy, it will be understood as (type, (1,)) / '(1,)type'.\n",
      "  _np_qint32 = np.dtype([(\"qint32\", np.int32, 1)])\n",
      "/home/simon/.conda/envs/tf1.12/lib/python3.6/site-packages/tensorflow/python/framework/dtypes.py:532: FutureWarning: Passing (type, 1) or '1type' as a synonym of type is deprecated; in a future version of numpy, it will be understood as (type, (1,)) / '(1,)type'.\n",
      "  np_resource = np.dtype([(\"resource\", np.ubyte, 1)])\n"
     ]
    }
   ],
   "source": [
    "import numpy as np\n",
    "import tensorflow as tf\n",
    "from tensorflow import keras\n",
    "from tensorflow.keras import layers\n",
    "\n",
    "import matplotlib.pyplot as plt\n",
    "import skimage.io as io\n",
    "from skimage.transform import resize\n",
    "import os"
   ]
  },
  {
   "cell_type": "markdown",
   "metadata": {},
   "source": [
    "# Data"
   ]
  },
  {
   "cell_type": "code",
   "execution_count": 2,
   "metadata": {},
   "outputs": [],
   "source": [
    "POS_DIR = \"/home/simon/Desktop/HealthHack/data/good_side/numpy/\"\n",
    "NEG_DIR = \"/home/simon/Desktop/HealthHack/data/bad_side/numpy/\"\n",
    "BATCH_SIZE = 100\n",
    "IMG_DIM = 28"
   ]
  },
  {
   "cell_type": "code",
   "execution_count": 3,
   "metadata": {},
   "outputs": [],
   "source": [
    "from skimage import filters\n",
    "\n",
    "from skimage.morphology import disk\n",
    "from skimage.filters.rank import median\n",
    "\n",
    "\n",
    "class DataGen(object):\n",
    "\n",
    "    def __init__(self, img_dir, img_dim, batch_size, shuffle=True, rgb=True, labels=False):\n",
    "        self.img_dir = img_dir\n",
    "        self.img_dim = img_dim\n",
    "        self.batch_size = batch_size\n",
    "        self.files = np.array([os.path.join(self.img_dir, file) for file in os.listdir(self.img_dir)])\n",
    "        self.n = len(self.files)\n",
    "        self.indices = np.arange(0, self.n)\n",
    "        self.rgb = rgb\n",
    "        self.labels = labels\n",
    "        if shuffle:\n",
    "            np.random.shuffle(self.indices)\n",
    "        self.pos = 0\n",
    "\n",
    "    def _get_indices(self, i):\n",
    "        return self.indices[i * self.batch_size:i * self.batch_size + self.batch_size]\n",
    "\n",
    "    def __getitem__(self, i):\n",
    "        batch = []\n",
    "        labels = []\n",
    "        files = self.files[self._get_indices(i)]\n",
    "        for file in files:\n",
    "            try:\n",
    "                if self.rgb:\n",
    "                    img = io.imread(file) #/ 255.\n",
    "                \n",
    "                else:\n",
    "                    img = np.load(file)\n",
    "                \n",
    "                \n",
    "                if len(img.shape) == 3:\n",
    "                    img = img[0]\n",
    "                \n",
    "                \n",
    "                img = filters.gaussian(img, sigma=3)\n",
    "                \n",
    "                if img.shape[0] != self.img_dim or img.shape[1] != self.img_dim:\n",
    "                    img = resize(img, (self.img_dim, self.img_dim))\n",
    "                    \n",
    "\n",
    "                #img = median((img*255.).astype(\"uint8\"), disk(2)) / 255.\n",
    "                \n",
    "                #img = filters.roberts(img)\n",
    "                \n",
    "                # Augment left to right\n",
    "                if np.random.random() > 0.5:\n",
    "                    img = np.fliplr(img)\n",
    "                \n",
    "                # Augment rot90\n",
    "                turns = np.random.choice([0, 1, 2, 3], size=1)\n",
    "                img = np.rot90(img, k=turns)\n",
    "                \n",
    "                if self.labels:\n",
    "                    label = float(file.split(\"/\")[-1].split(\"_\")[0])\n",
    "                    labels.append(label)\n",
    "                \n",
    "                batch.append(img)\n",
    "            except Exception as e:\n",
    "                print(\"Failed to load:\", file, e)\n",
    "                \n",
    "                \n",
    "        batch = np.expand_dims(np.stack(batch), -1)\n",
    "        \n",
    "        # Normalise\n",
    "        mean = np.mean(batch, axis=(1, 2, 3))\n",
    "        std = np.std(batch, axis=(1, 2, 3))\n",
    "        batch = np.divide(np.subtract(batch.T, mean), std).T\n",
    "        \n",
    "#         # Mask\n",
    "#         canvas = np.zeros((100, 28, 28, 1))\n",
    "#         canvas[:, 7:22, 7:22, 0] = batch[:, 7:22, 7:22, 0]\n",
    "        \n",
    "        if self.labels:\n",
    "            return (batch, np.array(labels).reshape(self.batch_size, 1))\n",
    "\n",
    "        return batch\n",
    "\n",
    "    def __next__(self):\n",
    "        self.pos += 1\n",
    "        if self.pos > self.n // self.batch_size:\n",
    "            self.pos = 1\n",
    "        return self.__getitem__(self.pos - 1)\n",
    "    \n",
    "    def on_epoch_end(self):\n",
    "        np.random.shuffle(self.indices)"
   ]
  },
  {
   "cell_type": "markdown",
   "metadata": {},
   "source": [
    "# Stupid way to get file names..."
   ]
  },
  {
   "cell_type": "code",
   "execution_count": 4,
   "metadata": {},
   "outputs": [],
   "source": [
    "pos_gen = DataGen(img_dir=POS_DIR, img_dim=IMG_DIM, batch_size=BATCH_SIZE, rgb=False, labels=True)\n",
    "neg_gen = DataGen(img_dir=NEG_DIR, img_dim=IMG_DIM, batch_size=BATCH_SIZE, rgb=False, labels=True)"
   ]
  },
  {
   "cell_type": "code",
   "execution_count": 5,
   "metadata": {},
   "outputs": [],
   "source": [
    "pos_files = pos_gen.files\n",
    "neg_files = neg_gen.files"
   ]
  },
  {
   "cell_type": "code",
   "execution_count": 6,
   "metadata": {},
   "outputs": [
    {
     "data": {
      "text/plain": [
       "698"
      ]
     },
     "execution_count": 6,
     "metadata": {},
     "output_type": "execute_result"
    }
   ],
   "source": [
    "pos = int(len(pos_files) * 0.7); pos"
   ]
  },
  {
   "cell_type": "code",
   "execution_count": 7,
   "metadata": {},
   "outputs": [],
   "source": [
    "train_pos = pos_files[:pos]\n",
    "val_pos = pos_files[pos:]\n",
    "train_neg = neg_files[:pos]\n",
    "val_neg = neg_files[pos:]"
   ]
  },
  {
   "cell_type": "code",
   "execution_count": 8,
   "metadata": {},
   "outputs": [],
   "source": [
    "train_files = np.concatenate([train_pos, train_neg])\n",
    "val_files = np.concatenate([val_pos, val_neg])"
   ]
  },
  {
   "cell_type": "markdown",
   "metadata": {},
   "source": [
    "Create new generators and then set files"
   ]
  },
  {
   "cell_type": "code",
   "execution_count": 9,
   "metadata": {},
   "outputs": [],
   "source": [
    "train_gen = DataGen(img_dir=NEG_DIR, img_dim=IMG_DIM, batch_size=BATCH_SIZE, rgb=False, labels=True)\n",
    "val_gen = DataGen(img_dir=NEG_DIR, img_dim=IMG_DIM, batch_size=BATCH_SIZE, rgb=False, labels=True)"
   ]
  },
  {
   "cell_type": "code",
   "execution_count": 10,
   "metadata": {},
   "outputs": [],
   "source": [
    "train_gen.files = train_files\n",
    "train_gen.n = len(train_files)\n",
    "train_gen.indices = np.arange(train_gen.n)\n",
    "np.random.shuffle(train_gen.indices)"
   ]
  },
  {
   "cell_type": "code",
   "execution_count": 11,
   "metadata": {},
   "outputs": [],
   "source": [
    "val_gen.files = val_files\n",
    "val_gen.n = len(val_files)\n",
    "val_gen.indices = np.arange(val_gen.n)\n",
    "np.random.shuffle(val_gen.indices)"
   ]
  },
  {
   "cell_type": "code",
   "execution_count": 12,
   "metadata": {},
   "outputs": [],
   "source": [
    "X, y = train_gen[0]"
   ]
  },
  {
   "cell_type": "code",
   "execution_count": 13,
   "metadata": {},
   "outputs": [
    {
     "data": {
      "text/plain": [
       "(100, 28, 28, 1)"
      ]
     },
     "execution_count": 13,
     "metadata": {},
     "output_type": "execute_result"
    }
   ],
   "source": [
    "X.shape"
   ]
  },
  {
   "cell_type": "code",
   "execution_count": 14,
   "metadata": {},
   "outputs": [
    {
     "data": {
      "text/plain": [
       "(100, 1)"
      ]
     },
     "execution_count": 14,
     "metadata": {},
     "output_type": "execute_result"
    }
   ],
   "source": [
    "y.shape"
   ]
  },
  {
   "cell_type": "markdown",
   "metadata": {},
   "source": [
    "# Classifier"
   ]
  },
  {
   "cell_type": "code",
   "execution_count": 16,
   "metadata": {},
   "outputs": [
    {
     "name": "stdout",
     "output_type": "stream",
     "text": [
      "_________________________________________________________________\n",
      "Layer (type)                 Output Shape              Param #   \n",
      "=================================================================\n",
      "input_1 (InputLayer)         (None, 28, 28, 1)         0         \n",
      "_________________________________________________________________\n",
      "conv2d (Conv2D)              (None, 28, 28, 32)        320       \n",
      "_________________________________________________________________\n",
      "conv2d_1 (Conv2D)            (None, 28, 28, 32)        9248      \n",
      "_________________________________________________________________\n",
      "average_pooling2d (AveragePo (None, 14, 14, 32)        0         \n",
      "_________________________________________________________________\n",
      "conv2d_2 (Conv2D)            (None, 14, 14, 32)        9248      \n",
      "_________________________________________________________________\n",
      "conv2d_3 (Conv2D)            (None, 14, 14, 32)        9248      \n",
      "_________________________________________________________________\n",
      "average_pooling2d_1 (Average (None, 7, 7, 32)          0         \n",
      "_________________________________________________________________\n",
      "conv2d_4 (Conv2D)            (None, 7, 7, 32)          9248      \n",
      "_________________________________________________________________\n",
      "conv2d_5 (Conv2D)            (None, 7, 7, 32)          9248      \n",
      "_________________________________________________________________\n",
      "average_pooling2d_2 (Average (None, 3, 3, 32)          0         \n",
      "_________________________________________________________________\n",
      "flatten (Flatten)            (None, 288)               0         \n",
      "_________________________________________________________________\n",
      "dense (Dense)                (None, 1)                 289       \n",
      "=================================================================\n",
      "Total params: 46,849\n",
      "Trainable params: 46,849\n",
      "Non-trainable params: 0\n",
      "_________________________________________________________________\n"
     ]
    }
   ],
   "source": [
    "keras.backend.clear_session()\n",
    "\n",
    "model_inputs = keras.Input(shape=(28, 28, 1))\n",
    "x = layers.Conv2D(32, 3, activation=\"relu\", strides=1, padding=\"same\")(model_inputs)\n",
    "x = layers.Conv2D(32, 3, activation=\"relu\", strides=1, padding=\"same\")(x)\n",
    "x = layers.AveragePooling2D()(x)\n",
    "x = layers.Conv2D(32, 3, activation=\"relu\", strides=1, padding=\"same\")(x)\n",
    "x = layers.Conv2D(32, 3, activation=\"relu\", strides=1, padding=\"same\")(x)\n",
    "x = layers.AveragePooling2D()(x)\n",
    "x = layers.Conv2D(32, 3, activation=\"relu\", strides=1, padding=\"same\")(x)\n",
    "x = layers.Conv2D(32, 3, activation=\"relu\", strides=1, padding=\"same\")(x)\n",
    "x = layers.AveragePooling2D()(x)\n",
    "x = layers.Flatten()(x)\n",
    "#x = layers.Dropout(0.8)(x)\n",
    "model_output = layers.Dense(1, activation=\"sigmoid\")(x)\n",
    "\n",
    "model = keras.Model(model_inputs, [model_output], name=\"classifer\")\n",
    "model.summary()"
   ]
  },
  {
   "cell_type": "code",
   "execution_count": 17,
   "metadata": {},
   "outputs": [],
   "source": [
    "model.compile(optimizer=keras.optimizers.Adam(lr=0.001),\n",
    "               loss=\"binary_crossentropy\",\n",
    "               metrics=[\"acc\"])"
   ]
  },
  {
   "cell_type": "code",
   "execution_count": 18,
   "metadata": {},
   "outputs": [
    {
     "name": "stdout",
     "output_type": "stream",
     "text": [
      "Epoch 1/100\n",
      "13/13 [==============================] - 23s 2s/step - loss: 0.6898 - acc: 0.5592 - val_loss: 0.6749 - val_acc: 0.5420\n",
      "Epoch 2/100\n",
      "13/13 [==============================] - 5s 362ms/step - loss: 0.6639 - acc: 0.6038 - val_loss: 0.5973 - val_acc: 0.7240\n",
      "Epoch 3/100\n",
      "13/13 [==============================] - 6s 488ms/step - loss: 0.6030 - acc: 0.6746 - val_loss: 0.5634 - val_acc: 0.6860\n",
      "Epoch 4/100\n",
      "13/13 [==============================] - 6s 497ms/step - loss: 0.5865 - acc: 0.6954 - val_loss: 0.5345 - val_acc: 0.7440\n",
      "Epoch 5/100\n",
      "13/13 [==============================] - 6s 497ms/step - loss: 0.5463 - acc: 0.7215 - val_loss: 0.5018 - val_acc: 0.7580\n",
      "Epoch 6/100\n",
      "13/13 [==============================] - 6s 496ms/step - loss: 0.5378 - acc: 0.7238 - val_loss: 0.4889 - val_acc: 0.7660\n",
      "Epoch 7/100\n",
      "13/13 [==============================] - 7s 500ms/step - loss: 0.5048 - acc: 0.7562 - val_loss: 0.4840 - val_acc: 0.7660\n",
      "Epoch 8/100\n",
      "13/13 [==============================] - 6s 481ms/step - loss: 0.4974 - acc: 0.7600 - val_loss: 0.4711 - val_acc: 0.7780\n",
      "Epoch 9/100\n",
      "13/13 [==============================] - 6s 495ms/step - loss: 0.4810 - acc: 0.7731 - val_loss: 0.4625 - val_acc: 0.7780\n",
      "Epoch 10/100\n",
      "13/13 [==============================] - 7s 501ms/step - loss: 0.4845 - acc: 0.7746 - val_loss: 0.4473 - val_acc: 0.7760\n",
      "Epoch 11/100\n",
      "13/13 [==============================] - 7s 501ms/step - loss: 0.4708 - acc: 0.7662 - val_loss: 0.4719 - val_acc: 0.7480\n",
      "Epoch 12/100\n",
      "13/13 [==============================] - 6s 494ms/step - loss: 0.4607 - acc: 0.7885 - val_loss: 0.4548 - val_acc: 0.7740\n",
      "Epoch 13/100\n",
      "13/13 [==============================] - 7s 502ms/step - loss: 0.4581 - acc: 0.7723 - val_loss: 0.4583 - val_acc: 0.7720\n",
      "Epoch 14/100\n",
      "13/13 [==============================] - 6s 494ms/step - loss: 0.4547 - acc: 0.7869 - val_loss: 0.4373 - val_acc: 0.7880\n",
      "Epoch 15/100\n",
      "13/13 [==============================] - 6s 498ms/step - loss: 0.4428 - acc: 0.7915 - val_loss: 0.4421 - val_acc: 0.7900\n",
      "Epoch 16/100\n",
      "13/13 [==============================] - 6s 484ms/step - loss: 0.4520 - acc: 0.7785 - val_loss: 0.4302 - val_acc: 0.7840\n",
      "Epoch 17/100\n",
      "13/13 [==============================] - 6s 499ms/step - loss: 0.4413 - acc: 0.7823 - val_loss: 0.4439 - val_acc: 0.7880\n",
      "Epoch 18/100\n",
      "13/13 [==============================] - 6s 491ms/step - loss: 0.4414 - acc: 0.7831 - val_loss: 0.4361 - val_acc: 0.7780\n",
      "Epoch 19/100\n",
      "13/13 [==============================] - 6s 488ms/step - loss: 0.4262 - acc: 0.7946 - val_loss: 0.4323 - val_acc: 0.8020\n",
      "Epoch 20/100\n",
      "13/13 [==============================] - 7s 507ms/step - loss: 0.4276 - acc: 0.7946 - val_loss: 0.4328 - val_acc: 0.7840\n",
      "Epoch 21/100\n",
      "13/13 [==============================] - 6s 490ms/step - loss: 0.4295 - acc: 0.7992 - val_loss: 0.4145 - val_acc: 0.8080\n",
      "Epoch 22/100\n",
      "13/13 [==============================] - 7s 505ms/step - loss: 0.4246 - acc: 0.7931 - val_loss: 0.4084 - val_acc: 0.8040\n",
      "Epoch 23/100\n",
      "13/13 [==============================] - 7s 511ms/step - loss: 0.4222 - acc: 0.7931 - val_loss: 0.4110 - val_acc: 0.7980\n",
      "Epoch 24/100\n",
      "13/13 [==============================] - 7s 501ms/step - loss: 0.4105 - acc: 0.7992 - val_loss: 0.4050 - val_acc: 0.8180\n",
      "Epoch 25/100\n",
      "13/13 [==============================] - 6s 498ms/step - loss: 0.4137 - acc: 0.7977 - val_loss: 0.4226 - val_acc: 0.8020\n",
      "Epoch 26/100\n",
      "13/13 [==============================] - 6s 491ms/step - loss: 0.4072 - acc: 0.8169 - val_loss: 0.4104 - val_acc: 0.7940\n",
      "Epoch 27/100\n",
      "13/13 [==============================] - 7s 503ms/step - loss: 0.3993 - acc: 0.8231 - val_loss: 0.4245 - val_acc: 0.8040\n",
      "Epoch 28/100\n",
      "13/13 [==============================] - 7s 508ms/step - loss: 0.3928 - acc: 0.8262 - val_loss: 0.4002 - val_acc: 0.8180\n",
      "Epoch 29/100\n",
      "13/13 [==============================] - 7s 501ms/step - loss: 0.4055 - acc: 0.8169 - val_loss: 0.4055 - val_acc: 0.8140\n",
      "Epoch 30/100\n",
      "13/13 [==============================] - 6s 496ms/step - loss: 0.3919 - acc: 0.8154 - val_loss: 0.4019 - val_acc: 0.8080\n",
      "Epoch 31/100\n",
      "13/13 [==============================] - 6s 497ms/step - loss: 0.3865 - acc: 0.8231 - val_loss: 0.3984 - val_acc: 0.8080\n",
      "Epoch 32/100\n",
      "13/13 [==============================] - 7s 505ms/step - loss: 0.3723 - acc: 0.8400 - val_loss: 0.3919 - val_acc: 0.8280\n",
      "Epoch 33/100\n",
      "13/13 [==============================] - 6s 487ms/step - loss: 0.3839 - acc: 0.8308 - val_loss: 0.3968 - val_acc: 0.8120\n",
      "Epoch 34/100\n",
      "13/13 [==============================] - 6s 494ms/step - loss: 0.3759 - acc: 0.8346 - val_loss: 0.3875 - val_acc: 0.8080\n",
      "Epoch 35/100\n",
      "13/13 [==============================] - 6s 500ms/step - loss: 0.3753 - acc: 0.8292 - val_loss: 0.4243 - val_acc: 0.7980\n",
      "Epoch 36/100\n",
      "13/13 [==============================] - 6s 493ms/step - loss: 0.3820 - acc: 0.8262 - val_loss: 0.4126 - val_acc: 0.8200\n",
      "Epoch 37/100\n",
      "13/13 [==============================] - 6s 497ms/step - loss: 0.3849 - acc: 0.8323 - val_loss: 0.4057 - val_acc: 0.8020\n",
      "Epoch 38/100\n",
      "13/13 [==============================] - 6s 494ms/step - loss: 0.3738 - acc: 0.8323 - val_loss: 0.3978 - val_acc: 0.8260\n",
      "Epoch 39/100\n",
      "13/13 [==============================] - 6s 499ms/step - loss: 0.3753 - acc: 0.8400 - val_loss: 0.3777 - val_acc: 0.8360\n",
      "Epoch 40/100\n",
      "13/13 [==============================] - 6s 493ms/step - loss: 0.3597 - acc: 0.8454 - val_loss: 0.3838 - val_acc: 0.8240\n",
      "Epoch 41/100\n",
      "13/13 [==============================] - 7s 505ms/step - loss: 0.3614 - acc: 0.8369 - val_loss: 0.3835 - val_acc: 0.8160\n",
      "Epoch 42/100\n",
      "13/13 [==============================] - 6s 499ms/step - loss: 0.3530 - acc: 0.8446 - val_loss: 0.3785 - val_acc: 0.8240\n",
      "Epoch 43/100\n",
      "13/13 [==============================] - 6s 490ms/step - loss: 0.3458 - acc: 0.8477 - val_loss: 0.3859 - val_acc: 0.8300\n",
      "Epoch 44/100\n",
      "13/13 [==============================] - 7s 503ms/step - loss: 0.3496 - acc: 0.8554 - val_loss: 0.3985 - val_acc: 0.8000\n",
      "Epoch 45/100\n",
      "13/13 [==============================] - 6s 496ms/step - loss: 0.3476 - acc: 0.8577 - val_loss: 0.3737 - val_acc: 0.8380\n",
      "Epoch 46/100\n",
      "13/13 [==============================] - 7s 513ms/step - loss: 0.3354 - acc: 0.8615 - val_loss: 0.3843 - val_acc: 0.8380\n",
      "Epoch 47/100\n",
      "13/13 [==============================] - 6s 490ms/step - loss: 0.3453 - acc: 0.8538 - val_loss: 0.3639 - val_acc: 0.8300\n",
      "Epoch 48/100\n",
      "13/13 [==============================] - 6s 489ms/step - loss: 0.3427 - acc: 0.8600 - val_loss: 0.3852 - val_acc: 0.8260\n",
      "Epoch 49/100\n",
      "13/13 [==============================] - 7s 512ms/step - loss: 0.3353 - acc: 0.8562 - val_loss: 0.3672 - val_acc: 0.8340\n",
      "Epoch 50/100\n",
      "13/13 [==============================] - 7s 505ms/step - loss: 0.3267 - acc: 0.8638 - val_loss: 0.3787 - val_acc: 0.8400\n",
      "Epoch 51/100\n",
      "13/13 [==============================] - 6s 486ms/step - loss: 0.3396 - acc: 0.8569 - val_loss: 0.3588 - val_acc: 0.8440\n",
      "Epoch 52/100\n",
      "13/13 [==============================] - 6s 499ms/step - loss: 0.3291 - acc: 0.8531 - val_loss: 0.3736 - val_acc: 0.8320\n",
      "Epoch 53/100\n",
      "13/13 [==============================] - 6s 495ms/step - loss: 0.3266 - acc: 0.8554 - val_loss: 0.3696 - val_acc: 0.8300\n",
      "Epoch 54/100\n",
      "13/13 [==============================] - 7s 502ms/step - loss: 0.3140 - acc: 0.8769 - val_loss: 0.3592 - val_acc: 0.8380\n",
      "Epoch 55/100\n",
      "13/13 [==============================] - 7s 501ms/step - loss: 0.3227 - acc: 0.8654 - val_loss: 0.3774 - val_acc: 0.8420\n",
      "Epoch 56/100\n",
      "13/13 [==============================] - 6s 493ms/step - loss: 0.3368 - acc: 0.8446 - val_loss: 0.3578 - val_acc: 0.8360\n",
      "Epoch 57/100\n",
      "13/13 [==============================] - 7s 505ms/step - loss: 0.3544 - acc: 0.8408 - val_loss: 0.3798 - val_acc: 0.8360\n",
      "Epoch 58/100\n",
      "13/13 [==============================] - 7s 511ms/step - loss: 0.3206 - acc: 0.8615 - val_loss: 0.3711 - val_acc: 0.8480\n",
      "Epoch 59/100\n",
      "13/13 [==============================] - 7s 510ms/step - loss: 0.3403 - acc: 0.8538 - val_loss: 0.3785 - val_acc: 0.8260\n",
      "Epoch 60/100\n",
      "13/13 [==============================] - 6s 497ms/step - loss: 0.3116 - acc: 0.8646 - val_loss: 0.3627 - val_acc: 0.8360\n",
      "Epoch 61/100\n",
      "13/13 [==============================] - 6s 490ms/step - loss: 0.3051 - acc: 0.8731 - val_loss: 0.3621 - val_acc: 0.8440\n",
      "Epoch 62/100\n"
     ]
    },
    {
     "name": "stdout",
     "output_type": "stream",
     "text": [
      "13/13 [==============================] - 7s 509ms/step - loss: 0.3140 - acc: 0.8692 - val_loss: 0.3668 - val_acc: 0.8460\n",
      "Epoch 63/100\n",
      "13/13 [==============================] - 7s 505ms/step - loss: 0.3193 - acc: 0.8738 - val_loss: 0.3863 - val_acc: 0.8340\n",
      "Epoch 64/100\n",
      "13/13 [==============================] - 6s 493ms/step - loss: 0.3178 - acc: 0.8677 - val_loss: 0.3636 - val_acc: 0.8460\n",
      "Epoch 65/100\n",
      "13/13 [==============================] - 6s 490ms/step - loss: 0.2840 - acc: 0.8885 - val_loss: 0.3742 - val_acc: 0.8420\n",
      "Epoch 66/100\n",
      "13/13 [==============================] - 7s 502ms/step - loss: 0.3007 - acc: 0.8754 - val_loss: 0.3655 - val_acc: 0.8400\n",
      "Epoch 67/100\n",
      "13/13 [==============================] - 7s 502ms/step - loss: 0.2951 - acc: 0.8846 - val_loss: 0.3530 - val_acc: 0.8500\n",
      "Epoch 68/100\n",
      "13/13 [==============================] - 7s 502ms/step - loss: 0.2842 - acc: 0.8762 - val_loss: 0.3584 - val_acc: 0.8400\n",
      "Epoch 69/100\n",
      "13/13 [==============================] - 7s 502ms/step - loss: 0.2862 - acc: 0.8769 - val_loss: 0.3660 - val_acc: 0.8400\n",
      "Epoch 70/100\n",
      "13/13 [==============================] - 6s 488ms/step - loss: 0.2749 - acc: 0.8923 - val_loss: 0.3595 - val_acc: 0.8520\n",
      "Epoch 71/100\n",
      "13/13 [==============================] - 6s 499ms/step - loss: 0.2848 - acc: 0.8838 - val_loss: 0.3665 - val_acc: 0.8380\n",
      "Epoch 72/100\n",
      "13/13 [==============================] - 6s 490ms/step - loss: 0.2728 - acc: 0.8869 - val_loss: 0.3535 - val_acc: 0.8640\n",
      "Epoch 73/100\n",
      "13/13 [==============================] - 6s 496ms/step - loss: 0.2624 - acc: 0.8915 - val_loss: 0.3650 - val_acc: 0.8560\n",
      "Epoch 74/100\n",
      "13/13 [==============================] - 6s 490ms/step - loss: 0.2659 - acc: 0.8915 - val_loss: 0.3360 - val_acc: 0.8620\n",
      "Epoch 75/100\n",
      "13/13 [==============================] - 6s 489ms/step - loss: 0.2816 - acc: 0.8731 - val_loss: 0.3794 - val_acc: 0.8400\n",
      "Epoch 76/100\n",
      "13/13 [==============================] - 7s 505ms/step - loss: 0.2660 - acc: 0.8946 - val_loss: 0.3600 - val_acc: 0.8660\n",
      "Epoch 77/100\n",
      "13/13 [==============================] - 7s 507ms/step - loss: 0.2506 - acc: 0.8962 - val_loss: 0.3695 - val_acc: 0.8580\n",
      "Epoch 78/100\n",
      "13/13 [==============================] - 6s 488ms/step - loss: 0.2431 - acc: 0.9062 - val_loss: 0.3618 - val_acc: 0.8500\n",
      "Epoch 79/100\n",
      "13/13 [==============================] - 6s 492ms/step - loss: 0.2588 - acc: 0.8985 - val_loss: 0.4002 - val_acc: 0.8460\n",
      "Epoch 80/100\n",
      "13/13 [==============================] - 6s 494ms/step - loss: 0.2527 - acc: 0.9023 - val_loss: 0.3678 - val_acc: 0.8560\n",
      "Epoch 81/100\n",
      "13/13 [==============================] - 6s 496ms/step - loss: 0.2503 - acc: 0.8992 - val_loss: 0.3900 - val_acc: 0.8380\n",
      "Epoch 82/100\n",
      "13/13 [==============================] - 6s 492ms/step - loss: 0.2557 - acc: 0.8977 - val_loss: 0.3658 - val_acc: 0.8680\n",
      "Epoch 83/100\n",
      "13/13 [==============================] - 6s 488ms/step - loss: 0.2518 - acc: 0.8954 - val_loss: 0.3450 - val_acc: 0.8660\n",
      "Epoch 84/100\n",
      "13/13 [==============================] - 6s 491ms/step - loss: 0.2281 - acc: 0.9123 - val_loss: 0.3234 - val_acc: 0.8600\n",
      "Epoch 85/100\n",
      "13/13 [==============================] - 6s 497ms/step - loss: 0.2425 - acc: 0.9131 - val_loss: 0.3589 - val_acc: 0.8600\n",
      "Epoch 86/100\n",
      "13/13 [==============================] - 7s 508ms/step - loss: 0.2254 - acc: 0.9069 - val_loss: 0.3390 - val_acc: 0.8740\n",
      "Epoch 87/100\n",
      "13/13 [==============================] - 7s 504ms/step - loss: 0.2292 - acc: 0.9138 - val_loss: 0.3992 - val_acc: 0.8380\n",
      "Epoch 88/100\n",
      "13/13 [==============================] - 7s 513ms/step - loss: 0.2274 - acc: 0.9146 - val_loss: 0.3598 - val_acc: 0.8540\n",
      "Epoch 89/100\n",
      "13/13 [==============================] - 7s 524ms/step - loss: 0.2160 - acc: 0.9108 - val_loss: 0.3575 - val_acc: 0.8560\n",
      "Epoch 90/100\n",
      "13/13 [==============================] - 7s 505ms/step - loss: 0.2510 - acc: 0.9000 - val_loss: 0.3461 - val_acc: 0.8600\n",
      "Epoch 91/100\n",
      "13/13 [==============================] - 6s 491ms/step - loss: 0.2377 - acc: 0.9077 - val_loss: 0.3680 - val_acc: 0.8560\n",
      "Epoch 92/100\n",
      "13/13 [==============================] - 7s 505ms/step - loss: 0.2345 - acc: 0.9100 - val_loss: 0.3807 - val_acc: 0.8500\n",
      "Epoch 93/100\n",
      "13/13 [==============================] - 7s 503ms/step - loss: 0.2072 - acc: 0.9185 - val_loss: 0.3982 - val_acc: 0.8320\n",
      "Epoch 94/100\n",
      "13/13 [==============================] - 6s 498ms/step - loss: 0.2410 - acc: 0.9131 - val_loss: 0.3345 - val_acc: 0.8820\n",
      "Epoch 95/100\n",
      "13/13 [==============================] - 6s 499ms/step - loss: 0.2303 - acc: 0.9185 - val_loss: 0.3632 - val_acc: 0.8540\n",
      "Epoch 96/100\n",
      "13/13 [==============================] - 6s 496ms/step - loss: 0.2145 - acc: 0.9138 - val_loss: 0.3469 - val_acc: 0.8660\n",
      "Epoch 97/100\n",
      "13/13 [==============================] - 6s 482ms/step - loss: 0.2101 - acc: 0.9131 - val_loss: 0.4079 - val_acc: 0.8400\n",
      "Epoch 98/100\n",
      "13/13 [==============================] - 6s 500ms/step - loss: 0.1822 - acc: 0.9238 - val_loss: 0.3823 - val_acc: 0.8660\n",
      "Epoch 99/100\n",
      "13/13 [==============================] - 7s 507ms/step - loss: 0.1895 - acc: 0.9315 - val_loss: 0.4170 - val_acc: 0.8620\n",
      "Epoch 100/100\n",
      "13/13 [==============================] - 7s 502ms/step - loss: 0.1935 - acc: 0.9231 - val_loss: 0.3959 - val_acc: 0.8560\n"
     ]
    },
    {
     "data": {
      "text/plain": [
       "<tensorflow.python.keras.callbacks.History at 0x7ff6ea8c5a20>"
      ]
     },
     "execution_count": 18,
     "metadata": {},
     "output_type": "execute_result"
    }
   ],
   "source": [
    "history = model.fit_generator(generator=train_gen,\n",
    "                    steps_per_epoch=train_gen.n // train_gen.batch_size,\n",
    "                    epochs=100,\n",
    "                    validation_data=val_gen,\n",
    "                    validation_steps=val_gen.n//val_gen.batch_size\n",
    "                   )"
   ]
  },
  {
   "cell_type": "code",
   "execution_count": 21,
   "metadata": {},
   "outputs": [
    {
     "data": {
      "image/png": "[encoded data removed]",
      "text/plain": [
       "<Figure size 432x288 with 1 Axes>"
      ]
     },
     "metadata": {
      "needs_background": "light"
     },
     "output_type": "display_data"
    }
   ],
   "source": [
    "plt.plot(range(len(history.history[\"loss\"])), history.history[\"loss\"], label=\"loss\")\n",
    "plt.plot(range(len(history.history[\"loss\"])), history.history[\"val_loss\"], label=\"val_loss\")\n",
    "plt.xlabel(\"epochs\")\n",
    "plt.ylabel(\"Loss\")\n",
    "plt.legend()\n",
    "plt.show()"
   ]
  },
  {
   "cell_type": "code",
   "execution_count": 22,
   "metadata": {},
   "outputs": [
    {
     "data": {
      "image/png": "[encoded data removed]",
      "text/plain": [
       "<Figure size 432x288 with 1 Axes>"
      ]
     },
     "metadata": {
      "needs_background": "light"
     },
     "output_type": "display_data"
    }
   ],
   "source": [
    "plt.plot(range(len(history.history[\"loss\"])), history.history[\"acc\"], label=\"acc\")\n",
    "plt.plot(range(len(history.history[\"loss\"])), history.history[\"val_acc\"], label=\"val_acc\")\n",
    "plt.xlabel(\"epochs\")\n",
    "plt.ylabel(\"Acc\")\n",
    "plt.legend()\n",
    "plt.show()"
   ]
  },
  {
   "cell_type": "markdown",
   "metadata": {},
   "source": [
    "# Metrics"
   ]
  },
  {
   "cell_type": "code",
   "execution_count": null,
   "metadata": {},
   "outputs": [],
   "source": [
    "from sklearn.metrics import roc_curve, auc, roc_auc_score"
   ]
  },
  {
   "cell_type": "code",
   "execution_count": 41,
   "metadata": {},
   "outputs": [],
   "source": [
    "y_val = []\n",
    "X_val = []\n",
    "\n",
    "val_gen.batch_size = 1\n",
    "\n",
    "for i in range(val_gen.n):\n",
    "    X, y = val_gen[i]\n",
    "    \n",
    "    y_val.append(y[0])\n",
    "    X_val.append(X[0])\n",
    "\n",
    "y_val = np.stack(y_val)\n",
    "X_val = np.stack(X_val)"
   ]
  },
  {
   "cell_type": "code",
   "execution_count": 43,
   "metadata": {},
   "outputs": [
    {
     "name": "stdout",
     "output_type": "stream",
     "text": [
      "584/584 [==============================] - 0s 50us/step\n"
     ]
    }
   ],
   "source": [
    "# generate a no skill prediction (majority class)\n",
    "ns_probs = [0 for _ in range(val_gen.n)]\n",
    "\n",
    "# predict probabilities\n",
    "\n",
    "lr_probs = model.predict(X_val, verbose=1)"
   ]
  },
  {
   "cell_type": "code",
   "execution_count": 44,
   "metadata": {},
   "outputs": [
    {
     "data": {
      "image/png": "[encoded data removed]",
      "text/plain": [
       "<Figure size 1000x1000 with 1 Axes>"
      ]
     },
     "metadata": {
      "needs_background": "light"
     },
     "output_type": "display_data"
    }
   ],
   "source": [
    "# calculate scores\n",
    "ns_auc = roc_auc_score(y_val, ns_probs)\n",
    "lr_auc = roc_auc_score(y_val, lr_probs)\n",
    "\n",
    "# calculate roc curves\n",
    "ns_fpr, ns_tpr, _ = roc_curve(y_val, ns_probs)\n",
    "lr_fpr, lr_tpr, _ = roc_curve(y_val, lr_probs)\n",
    "\n",
    "# plot the roc curve for the model\n",
    "plt.figure(figsize=(5,5), dpi= 200)\n",
    "plt.plot(ns_fpr, ns_tpr, linestyle='--', label='No Skill')\n",
    "plt.plot(lr_fpr, lr_tpr, marker='.', label='Logistic')\n",
    "\n",
    "# axis labels\n",
    "plt.xlabel('False Positive Rate')\n",
    "plt.ylabel('True Positive Rate')\n",
    "\n",
    "# show the plot\n",
    "plt.title('Logistic: ROC AUC=%.3f' % (lr_auc), fontweight='bold')\n",
    "plt.xlim([0,1])\n",
    "plt.ylim([0,1])\n",
    "plt.grid()\n",
    "plt.show()"
   ]
  }
 ],
 "metadata": {
  "kernelspec": {
   "display_name": "Python 3",
   "language": "python",
   "name": "python3"
  },
  "language_info": {
   "codemirror_mode": {
    "name": "ipython",
    "version": 3
   },
   "file_extension": ".py",
   "mimetype": "text/x-python",
   "name": "python",
   "nbconvert_exporter": "python",
   "pygments_lexer": "ipython3",
   "version": "3.6.10"
  }
 },
 "nbformat": 4,
 "nbformat_minor": 4
}
